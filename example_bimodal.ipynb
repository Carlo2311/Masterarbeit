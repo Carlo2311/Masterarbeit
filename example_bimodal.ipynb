{
 "cells": [
  {
   "cell_type": "markdown",
   "metadata": {},
   "source": [
    "# Jupyter Notebook to use the SPCE method."
   ]
  },
  {
   "cell_type": "markdown",
   "metadata": {},
   "source": [
    "This jupyter notebook consideres an example representing a Probability Density Function (PDF), which yields a bimodal distributed output, given as\n",
    "$$\n",
    "    f_{Y|X}(y\\,|\\,x) = w_1\\,f_{1,Y|X}\\,(y\\,|\\,x, \\mu_1, \\sigma_1) + w_2 \\,f_{2,Y|X}\\,(y\\,|\\, x, \\mu_2, \\sigma_2)\n",
    "$$\n",
    "which is constructed by the combination of two normal PDF functions $f_{i,Y|X}$, with $i=\\{1,\\,2\\}$, using the weights $w_1 = 0.4$ and $w_2 = 0.6$. The normal PDF is defined as \n",
    "\n",
    "$$\n",
    "    f_{i,Y|X}\\,(y\\,|\\, x, \\mu_i, \\sigma_i) = \\frac{1}{\\sigma_i \\sqrt{2 \\pi}} \\cdot \\exp{\\left(-0.5 \\left(\\frac{y-\\mu_i(x)}{\\sigma_i}\\right) ^2 \\right)}.\n",
    "$$\n",
    "\n",
    "Both means $\\mu_1$ and $\\mu_2$ depend on the input variable $X$ and are defined as\n",
    "$$\n",
    "    \\begin{split}\n",
    "    \\mu_1(x) &= \\sigma_1 \\left(5 \\sin^2{(\\pi x)} + 5x - 2.5 \\right),\\\\\n",
    "    \\mu_2(x) &= \\sigma_2 \\left(5 \\sin^2{(\\pi x)} - 5x + 2.5 \\right)\n",
    "    \\end{split}\n",
    "$$\n",
    "\n",
    "with a standard deviation of \n",
    "$$\n",
    "    \\sigma_1 = \\sigma_2 = 0.8.\n",
    "$$"
   ]
  },
  {
   "cell_type": "markdown",
   "metadata": {},
   "source": [
    "The required packages to run the following code are listed in the file requirements.txt. "
   ]
  },
  {
   "cell_type": "code",
   "execution_count": 14,
   "metadata": {},
   "outputs": [],
   "source": [
    "pip install -r requirements.txt"
   ]
  },
  {
   "cell_type": "markdown",
   "metadata": {},
   "source": [
    "Firstly, load the required libraries."
   ]
  },
  {
   "cell_type": "code",
   "execution_count": 1,
   "metadata": {},
   "outputs": [],
   "source": [
    "import numpy as np \n",
    "import matplotlib.pyplot as plt\n",
    "import chaospy as cp\n",
    "from analytical_example_bimodal import AnalyticalExample\n",
    "from spce import SPCE\n",
    "import time"
   ]
  },
  {
   "cell_type": "markdown",
   "metadata": {},
   "source": [
    "Construct the example as follows:"
   ]
  },
  {
   "cell_type": "code",
   "execution_count": 2,
   "metadata": {},
   "outputs": [],
   "source": [
    "n_samples = 1600\n",
    "dist_X = cp.Uniform(0, 1)\n",
    "samples_x = dist_X.sample(size=n_samples, rule='H') \n",
    "samples_x_i = np.array([0.2, 0.5, 0.75, 0.9])\n",
    "indices = [np.abs(samples_x - value).argmin() for value in samples_x_i]\n",
    "y = np.linspace(-4, 8, 1000)\n",
    "\n",
    "example = AnalyticalExample(n_samples, y)\n",
    "pdf, mean_1, mean_2, sigma_1, sigma_2, mean_12, sigma_12 = example.calculate_pdf(samples_x)\n",
    "samples_y = example.create_data_points(mean_1, mean_2, sigma_1, sigma_2, 1, samples_x).reshape(-1)"
   ]
  },
  {
   "cell_type": "markdown",
   "metadata": {},
   "source": [
    "Plot the example and the PDFs for specific x-values."
   ]
  },
  {
   "cell_type": "code",
   "execution_count": 12,
   "metadata": {},
   "outputs": [],
   "source": [
    "example.plot_example(samples_x, samples_y, mean_1, mean_2, pdf, indices)\n",
    "example.plot_pdf(pdf, samples_x_i, indices)"
   ]
  },
  {
   "cell_type": "markdown",
   "metadata": {},
   "source": [
    "Initialzize parameters for constructing the surrogate."
   ]
  },
  {
   "cell_type": "code",
   "execution_count": 4,
   "metadata": {},
   "outputs": [],
   "source": [
    "p = 5\n",
    "dist_Z = cp.Uniform(-1, 1)\n",
    "dist_joint = cp.J(dist_X, dist_Z)\n",
    "N_q = 10\n",
    "q = 0.5\n",
    "\n",
    "spce = SPCE(n_samples, p, samples_y.T, samples_x, dist_joint, N_q, dist_Z, q)"
   ]
  },
  {
   "cell_type": "markdown",
   "metadata": {},
   "source": [
    "Compute initial coefficients."
   ]
  },
  {
   "cell_type": "code",
   "execution_count": 5,
   "metadata": {},
   "outputs": [],
   "source": [
    "surrogate_q0, poly_initial = spce.start_c(samples_x)\n",
    "optimized_c = poly_initial.coefficients\n",
    "polynomials = cp.prod(poly_initial.indeterminants**poly_initial.exponents, axis=-1)"
   ]
  },
  {
   "cell_type": "markdown",
   "metadata": {},
   "source": [
    "Conduct the warm-up strategy."
   ]
  },
  {
   "cell_type": "code",
   "execution_count": 6,
   "metadata": {},
   "outputs": [
    {
     "name": "stderr",
     "output_type": "stream",
     "text": [
      "c:\\Users\\carlo\\Masterarbeit\\Masterarbeit\\spce.py:40: RuntimeWarning: divide by zero encountered in log\n",
      "  likelihood_sum = - np.sum(np.log(likelihood))\n",
      "c:\\Users\\carlo\\Masterarbeit\\Masterarbeit\\spce.py:64: RuntimeWarning: divide by zero encountered in divide\n",
      "  grad = -np.sum((1 / (like)) * (grad_like_sum), axis=1)\n",
      "c:\\Users\\carlo\\Masterarbeit\\Masterarbeit\\spce.py:64: RuntimeWarning: invalid value encountered in multiply\n",
      "  grad = -np.sum((1 / (like)) * (grad_like_sum), axis=1)\n",
      "c:\\Users\\carlo\\Masterarbeit\\Masterarbeit\\spce.py:40: RuntimeWarning: divide by zero encountered in log\n",
      "  likelihood_sum = - np.sum(np.log(likelihood))\n"
     ]
    }
   ],
   "source": [
    "error_loo = spce.loo_error(mean_12, surrogate_q0, samples_x)\n",
    "sigma_range = (0.1 * np.sqrt(error_loo), 1 * np.sqrt(error_loo))\n",
    "sigma_noise_range = np.linspace(sigma_range[0], sigma_range[-1], 5)\n",
    "sigma_noise_sorted = sorted(np.exp(sigma_noise_range), reverse=True)\n",
    "\n",
    "for sigma_noise_i in sigma_noise_sorted:\n",
    "    optimized_c, message = spce.compute_optimal_c(samples_y, sigma_noise_i, optimized_c, polynomials, samples_x)"
   ]
  },
  {
   "cell_type": "markdown",
   "metadata": {},
   "source": [
    "Select if the the Maximum Likelihood Estimation (MLE) or the Cross-Validation (CV) method should be used to optimize the coefficients. Comment out the unselected algorithm."
   ]
  },
  {
   "cell_type": "code",
   "execution_count": 7,
   "metadata": {},
   "outputs": [
    {
     "name": "stdout",
     "output_type": "stream",
     "text": [
      "Optimized sigma: 1.343900263595698\n",
      "Optimized sigma: 0.9657150670415634\n",
      "Optimized sigma: 0.7826079712141227\n",
      "Optimized sigma: 0.7045450098846529\n",
      "Optimized sigma: 0.67612228490078\n",
      "Optimized sigma: 0.6673946680081881\n",
      "Optimized sigma: 0.664864182983246\n",
      "Optimized sigma: 0.6641441029747402\n",
      "Optimized sigma: 0.6639401995401785\n",
      "Optimized sigma: 0.6638823846467149\n",
      "Optimized sigma: 0.6638660291006305\n",
      "Optimized sigma: 0.6638614052163158\n",
      "Optimized sigma: 0.6638600866878631\n",
      "Optimized sigma: 0.6638597322350096\n",
      "Optimized sigma: 0.6638596368485834\n"
     ]
    }
   ],
   "source": [
    "### MLE\n",
    "for j in range(15):\n",
    "    sigma_noise = spce.optimize_sigma(samples_y, optimized_c, polynomials, samples_x, sigma_range)\n",
    "    optimized_c, message = spce.compute_optimal_c(samples_y, sigma_noise, optimized_c, polynomials, samples_x)\n",
    "\n",
    "### CV \n",
    "# sigma_noise = spce.compute_optimal_sigma(optimized_c, polynomials, sigma_range) \n",
    "# optimized_c, message = spce.compute_optimal_c(samples_y, sigma_noise, optimized_c, polynomials, samples_x)"
   ]
  },
  {
   "cell_type": "markdown",
   "metadata": {},
   "source": [
    "Generate test input samples and create output samples of the analytical example."
   ]
  },
  {
   "cell_type": "code",
   "execution_count": 8,
   "metadata": {},
   "outputs": [],
   "source": [
    "dist_eps = cp.Normal(0, sigma_noise)\n",
    "n_x = 1000\n",
    "n_samples_test = 10000\n",
    "\n",
    "samples_x_test = dist_X.sample(n_x, rule='H')\n",
    "samples_z_test = dist_Z.sample(n_samples_test)\n",
    "samples_eps_test = dist_eps.sample(n_samples_test)"
   ]
  },
  {
   "cell_type": "markdown",
   "metadata": {},
   "source": [
    "Generate the output distribution predicted by the SPCE surrogate."
   ]
  },
  {
   "cell_type": "code",
   "execution_count": 9,
   "metadata": {},
   "outputs": [],
   "source": [
    "dist_spce = spce.generate_dist_spce(samples_z_test, samples_eps_test, optimized_c, polynomials, samples_x_test)"
   ]
  },
  {
   "cell_type": "markdown",
   "metadata": {},
   "source": [
    "Compute the error using the Wasserstein distance. "
   ]
  },
  {
   "cell_type": "code",
   "execution_count": 10,
   "metadata": {},
   "outputs": [],
   "source": [
    "pdf_test, mean_1_test, mean_2_test, sigma_1_test, sigma_2_test, mean_12_test, sigma_12_test = example.calculate_pdf(samples_x_test)\n",
    "samples_y_test = example.create_data_points(mean_1_test, mean_2_test, sigma_1_test, sigma_2_test, n_samples_test, samples_x_test)\n",
    "\n",
    "error_spce = spce.compute_error(dist_spce, samples_y_test)\n",
    "print('Error SPCE: ', error_spce)"
   ]
  },
  {
   "cell_type": "markdown",
   "metadata": {},
   "source": [
    "Compare the error with that of a Gaussian Process Regression (GPR)."
   ]
  },
  {
   "cell_type": "code",
   "execution_count": 11,
   "metadata": {},
   "outputs": [],
   "source": [
    "mean_prediction_gpr, std_prediction_gpr, dist_gpr = spce.generate_dist_gpr(samples_x_test, mean_12_test, sigma_12_test)\n",
    "error_gpr = spce.compute_error(dist_gpr, samples_y_test)\n",
    "print('Error GPR: ', error_gpr)"
   ]
  }
 ],
 "metadata": {
  "kernelspec": {
   "display_name": ".venv",
   "language": "python",
   "name": "python3"
  },
  "language_info": {
   "codemirror_mode": {
    "name": "ipython",
    "version": 3
   },
   "file_extension": ".py",
   "mimetype": "text/x-python",
   "name": "python",
   "nbconvert_exporter": "python",
   "pygments_lexer": "ipython3",
   "version": "3.12.3"
  }
 },
 "nbformat": 4,
 "nbformat_minor": 2
}
